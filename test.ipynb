{
 "cells": [
  {
   "cell_type": "code",
   "execution_count": 1,
   "metadata": {
    "collapsed": true
   },
   "outputs": [
    {
     "ename": "FileNotFoundError",
     "evalue": "[Errno 2] No such file or directory: 'dblp_names.csv'",
     "output_type": "error",
     "traceback": [
      "\u001B[1;31m---------------------------------------------------------------------------\u001B[0m",
      "\u001B[1;31mFileNotFoundError\u001B[0m                         Traceback (most recent call last)",
      "\u001B[1;32m~\\AppData\\Local\\Temp/ipykernel_3372/1334644790.py\u001B[0m in \u001B[0;36m<module>\u001B[1;34m\u001B[0m\n\u001B[0;32m      3\u001B[0m \u001B[1;33m\u001B[0m\u001B[0m\n\u001B[0;32m      4\u001B[0m \u001B[1;31m#Loading the csv\u001B[0m\u001B[1;33m\u001B[0m\u001B[1;33m\u001B[0m\u001B[0m\n\u001B[1;32m----> 5\u001B[1;33m \u001B[0mfile\u001B[0m \u001B[1;33m=\u001B[0m \u001B[0mopen\u001B[0m\u001B[1;33m(\u001B[0m\u001B[1;34m'dblp_names.csv'\u001B[0m\u001B[1;33m,\u001B[0m \u001B[0mencoding\u001B[0m\u001B[1;33m=\u001B[0m\u001B[1;34m'utf-8'\u001B[0m\u001B[1;33m)\u001B[0m\u001B[1;33m\u001B[0m\u001B[1;33m\u001B[0m\u001B[0m\n\u001B[0m\u001B[0;32m      6\u001B[0m \u001B[0mcsvreader\u001B[0m \u001B[1;33m=\u001B[0m \u001B[0mcsv\u001B[0m\u001B[1;33m.\u001B[0m\u001B[0mreader\u001B[0m\u001B[1;33m(\u001B[0m\u001B[0mfile\u001B[0m\u001B[1;33m)\u001B[0m\u001B[1;33m\u001B[0m\u001B[1;33m\u001B[0m\u001B[0m\n\u001B[0;32m      7\u001B[0m \u001B[0mrows\u001B[0m \u001B[1;33m=\u001B[0m \u001B[1;33m[\u001B[0m\u001B[1;33m]\u001B[0m\u001B[1;33m\u001B[0m\u001B[1;33m\u001B[0m\u001B[0m\n",
      "\u001B[1;31mFileNotFoundError\u001B[0m: [Errno 2] No such file or directory: 'dblp_names.csv'"
     ]
    }
   ],
   "source": [
    "#importing required modules\n",
    "import csv\n",
    "\n",
    "#Loading the csv\n",
    "file = open('dblp_names.csv', encoding='utf-8')\n",
    "csvreader = csv.reader(file)\n",
    "rows = []\n",
    "for row in csvreader:\n",
    "    rows.append(row)\n",
    "\n",
    "file.close()\n",
    "\n",
    "\n",
    "#two arrays to store the blocking strategies\n",
    "lastname = []\n",
    "first_name = []\n",
    "\n",
    "#using for loop to split the data from space for oldname  and implementing first blocking\n",
    "for i in rows:\n",
    "    names = i[0].split(' ')\n",
    "\n",
    "    lastname.append(names[-1])\n",
    "    a=0\n",
    "    if names[0] == '':\n",
    "        a=a+1\n",
    "    initial_name = names[a]\n",
    "    first_name.append(initial_name)\n",
    "\n",
    "#Second blocking strategy\n",
    "s2 = []\n",
    "for i in range(len(first_name)):\n",
    "    name = first_name[i][0] + \". \" + lastname[i]\n",
    "    s2.append(name)\n",
    "\n",
    "# print(\"Old Name                         s1                   s2 \")\n",
    "# for i in range(len(lastname)):\n",
    "#     print(f'{rows[i][0]}..............{lastname[i]}...................{s2[i]}')\n",
    "\n",
    "#implementing blocks for s1 and computing the recall\n",
    "a=set(lastname)\n",
    "print(f'recall s1= {len(a)/len(lastname)}')\n",
    "\n",
    "b=[]\n",
    "sum =0\n",
    "\n",
    "#calculating the save for s1\n",
    "for i in set(lastname):\n",
    "    nb = lastname.count(i)\n",
    "    sum = sum + (nb*(nb-1))/2\n",
    "print(sum)\n",
    "\n",
    "n=len(lastname)\n",
    "save = 1- (abs(sum)/((n*(n-1))/2))\n",
    "print(f'save s1 = {save}')\n",
    "\n",
    "print(\"-----------------------------------\")\n",
    "\n",
    "#implementing blocks for s2 and computing the recall\n",
    "\n",
    "a= set(s2)\n",
    "print(f'recall s2 = {len(a)/len(s2)}')\n",
    "b=[]\n",
    "sum =0\n",
    "\n",
    "#COmputing the save for s2\n",
    "for i in set(s2):\n",
    "    nb = s2.count(i)\n",
    "    sum = sum + (nb*(nb-1))/2\n",
    "print(sum)\n",
    "\n",
    "n=len(s2)\n",
    "save = 1- (abs(sum)/((n*(n-1))/2))\n",
    "print(f'save s2 = {save}')"
   ]
  }
 ],
 "metadata": {
  "kernelspec": {
   "display_name": "Python 3",
   "language": "python",
   "name": "python3"
  },
  "language_info": {
   "codemirror_mode": {
    "name": "ipython",
    "version": 2
   },
   "file_extension": ".py",
   "mimetype": "text/x-python",
   "name": "python",
   "nbconvert_exporter": "python",
   "pygments_lexer": "ipython2",
   "version": "2.7.6"
  }
 },
 "nbformat": 4,
 "nbformat_minor": 0
}